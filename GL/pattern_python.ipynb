{
 "cells": [
  {
   "cell_type": "raw",
   "metadata": {},
   "source": [
    "#to print the pattern\n",
    "1\n",
    "12\n",
    "123\n",
    "1234\n",
    "12345\n",
    "123456\n",
    "1234567\n",
    "12345678\n",
    "123456789\n",
    "12345678910"
   ]
  },
  {
   "cell_type": "code",
   "execution_count": 5,
   "metadata": {},
   "outputs": [
    {
     "name": "stdout",
     "output_type": "stream",
     "text": [
      "1\n",
      "12\n",
      "123\n",
      "1234\n",
      "12345\n",
      "123456\n",
      "1234567\n",
      "12345678\n",
      "123456789\n",
      "12345678910\n"
     ]
    }
   ],
   "source": [
    "str1=\"\"\n",
    "for i in range(1,11):\n",
    "    str1=\"\"\n",
    "    for j in range(1,i+1):\n",
    "        str1=str1+str(j)\n",
    "    print(str1)"
   ]
  },
  {
   "cell_type": "raw",
   "metadata": {},
   "source": [
    "#to print the pattern\n",
    "1\n",
    "10\n",
    "101\n",
    "1010\n",
    "10101\n",
    "101010\n",
    "1010101\n",
    "10101010"
   ]
  },
  {
   "cell_type": "code",
   "execution_count": 8,
   "metadata": {},
   "outputs": [
    {
     "name": "stdout",
     "output_type": "stream",
     "text": [
      "1\n",
      "10\n",
      "101\n",
      "1010\n",
      "10101\n",
      "101010\n",
      "1010101\n",
      "10101010\n"
     ]
    }
   ],
   "source": [
    "str2=\"\"\n",
    "flag=1\n",
    "for i in range(1,9):\n",
    "    flag=1\n",
    "    str2=\"\"\n",
    "    for j in range(1,i+1):\n",
    "        str2=str2+str(flag)\n",
    "        if flag==0:\n",
    "            flag=1\n",
    "        elif flag==1:\n",
    "            flag=0\n",
    "    print(str2)       "
   ]
  },
  {
   "cell_type": "raw",
   "metadata": {},
   "source": [
    "to print the pattern\n",
    "*\n",
    "**\n",
    "***\n",
    "****\n",
    "*****\n",
    "******\n",
    "*******\n",
    "********\n"
   ]
  },
  {
   "cell_type": "code",
   "execution_count": 9,
   "metadata": {},
   "outputs": [
    {
     "name": "stdout",
     "output_type": "stream",
     "text": [
      "*\n",
      "**\n",
      "***\n",
      "****\n",
      "*****\n",
      "******\n",
      "*******\n",
      "********\n"
     ]
    }
   ],
   "source": [
    "str2=\"\"\n",
    "\n",
    "for i in range(1,9):\n",
    "    flag=1\n",
    "    str2=\"\"\n",
    "    for j in range(1,i+1):\n",
    "        str2=str2+\"*\"\n",
    "        \n",
    "    print(str2)   "
   ]
  },
  {
   "cell_type": "raw",
   "metadata": {},
   "source": [
    "print the pattern\n",
    "1 \n",
    "2 2 \n",
    "3 3 3 \n",
    "4 4 4 4 \n",
    "5 5 5 5 5 \n",
    "6 6 6 6 6 6 \n",
    "7 7 7 7 7 7 7 \n",
    "8 8 8 8 8 8 8 8 \n",
    "9 9 9 9 9 9 9 9 9"
   ]
  },
  {
   "cell_type": "code",
   "execution_count": 11,
   "metadata": {},
   "outputs": [
    {
     "name": "stdout",
     "output_type": "stream",
     "text": [
      " 1\n",
      " 2 2\n",
      " 3 3 3\n",
      " 4 4 4 4\n",
      " 5 5 5 5 5\n",
      " 6 6 6 6 6 6\n",
      " 7 7 7 7 7 7 7\n",
      " 8 8 8 8 8 8 8 8\n",
      " 9 9 9 9 9 9 9 9 9\n"
     ]
    }
   ],
   "source": [
    "for i in range(1,10):\n",
    "    str3=\"\"\n",
    "    for j in range(1,i+1):\n",
    "        str3=str3+\" \"+str(i)\n",
    "    print(str3)\n",
    "        "
   ]
  },
  {
   "cell_type": "raw",
   "metadata": {},
   "source": [
    "#print the pattern\n",
    "1 \n",
    "2 1 \n",
    "3 2 1 \n",
    "4 3 2 1 \n",
    "5 4 3 2 1"
   ]
  },
  {
   "cell_type": "code",
   "execution_count": 13,
   "metadata": {},
   "outputs": [
    {
     "name": "stdout",
     "output_type": "stream",
     "text": [
      " 1\n",
      " 2 1\n",
      " 3 2 1\n",
      " 4 3 2 1\n",
      " 5 4 3 2 1\n"
     ]
    }
   ],
   "source": [
    "for i in range(1,6):\n",
    "    str4=\"\"\n",
    "    for j in range(i,0,-1):\n",
    "        str4=str4+\" \"+ str(j)\n",
    "    print(str4)\n",
    "        "
   ]
  },
  {
   "cell_type": "raw",
   "metadata": {},
   "source": [
    "#print the pattern\n",
    "2 \n",
    "2 4 \n",
    "2 4 6 \n",
    "2 4 6 8 \n",
    "2 4 6 8 10"
   ]
  },
  {
   "cell_type": "code",
   "execution_count": 25,
   "metadata": {},
   "outputs": [
    {
     "name": "stdout",
     "output_type": "stream",
     "text": [
      "Enter the number of rows:6\n",
      "\n",
      " 2\n",
      " 2 4\n",
      " 2 4 6\n",
      " 2 4 6 8\n",
      " 2 4 6 8 10\n",
      " 2 4 6 8 10 12\n"
     ]
    }
   ],
   "source": [
    "n=int(input(\"Enter the number of rows:\"))\n",
    "for row in range(1,n+2):\n",
    "    str4=\"\"\n",
    "#for the first row 2 numbers,for second row 4 numbers, for 3rd row 6 numbers need to be checked,so j=row*2\n",
    "    for col in range(1,2*row):\n",
    "#only even numbers are printed\n",
    "        if col%2==0:\n",
    "            str4=str4+\" \"+str(col)\n",
    "    print(str4)\n",
    "        "
   ]
  },
  {
   "cell_type": "raw",
   "metadata": {},
   "source": [
    "#to print the pattern\n",
    "       *\n",
    "      ***\n",
    "     *****\n",
    "    *******\n",
    "   *********\n",
    "  ***********\n",
    " *************  "
   ]
  },
  {
   "cell_type": "code",
   "execution_count": 30,
   "metadata": {},
   "outputs": [
    {
     "name": "stdout",
     "output_type": "stream",
     "text": [
      "Enter the number of rows:-7\n",
      "       *\n",
      "      ***\n",
      "     *****\n",
      "    *******\n",
      "   *********\n",
      "  ***********\n",
      " *************\n"
     ]
    }
   ],
   "source": [
    "\n",
    "n=int(input(\"Enter the number of rows:-\"))\n",
    "rows=n\n",
    "for i in range(1,n+1):\n",
    "    space=\"\"\n",
    "    star=\"\"\n",
    "    \n",
    "    for j in range(rows,0,-1):\n",
    "        space=space+\" \"\n",
    "        \n",
    "    for k in range(1,2*i):\n",
    "        star=star+\"*\"\n",
    "    print(space+star)\n",
    "    rows=rows-1"
   ]
  },
  {
   "cell_type": "code",
   "execution_count": null,
   "metadata": {},
   "outputs": [],
   "source": []
  }
 ],
 "metadata": {
  "kernelspec": {
   "display_name": "Python 3",
   "language": "python",
   "name": "python3"
  },
  "language_info": {
   "codemirror_mode": {
    "name": "ipython",
    "version": 3
   },
   "file_extension": ".py",
   "mimetype": "text/x-python",
   "name": "python",
   "nbconvert_exporter": "python",
   "pygments_lexer": "ipython3",
   "version": "3.7.3"
  }
 },
 "nbformat": 4,
 "nbformat_minor": 2
}
